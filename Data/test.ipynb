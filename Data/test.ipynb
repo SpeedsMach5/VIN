{
 "cells": [
  {
   "cell_type": "code",
   "execution_count": 1,
   "metadata": {},
   "outputs": [
    {
     "name": "stderr",
     "output_type": "stream",
     "text": [
      "2022-02-25 14:12:50.658 INFO    numexpr.utils: Note: NumExpr detected 16 cores but \"NUMEXPR_MAX_THREADS\" not set, so enforcing safe limit of 8.\n",
      "2022-02-25 14:12:50.658 INFO    numexpr.utils: NumExpr defaulting to 8 threads.\n"
     ]
    }
   ],
   "source": [
    "from web3 import Web3\n",
    "import streamlit as st\n",
    "import json\n",
    "from dotenv import load_dotenv\n",
    "import os\n",
    "from pinata import pin_file_to_ipfs, pin_json_to_ipfs, convert_data_to_json\n",
    "from pinata import pin_file_to_ipfs, pin_json_to_ipfs, convert_data_to_json, get_CID\n",
    "import qrcode\n",
    "import cv2\n",
    "import sqlalchemy as sql\n",
    "import pandas as pd\n",
    "import io"
   ]
  },
  {
   "cell_type": "code",
   "execution_count": 5,
   "metadata": {},
   "outputs": [],
   "source": [
    "def pin_artwork(artwork_name, artwork_file):\n",
    "    # Pin the file to IPFS with Pinata\n",
    "    ipfs_file_hash = pin_file_to_ipfs(artwork_file.getvalue())\n",
    "    # Build a token metadata file for the artwork\n",
    "    st.write(artwork_file.getvalue())\n",
    "    token_json = {\n",
    "        \"name\": artwork_name,\n",
    "        \"image\": ipfs_file_hash\n",
    "    }\n",
    "\n",
    "def make_qr_quote(name):\n",
    "    qr = qrcode.QRCode(\n",
    "    version=1,\n",
    "    error_correction=qrcode.constants.ERROR_CORRECT_L,\n",
    "    box_size=10,\n",
    "    border=4)\n",
    "    qr.add_data(json.dumps(\n",
    "        {\"name\":f\"{name}\"}))\n",
    "    qr.make(fit=True)\n",
    "    img = qr.make_image(fill_color=\"black\", back_color=\"white\")\n",
    "    img.save(f\"temp/{name}.jpg\")\n",
    "    # return img.get_image()\n",
    "    "
   ]
  },
  {
   "cell_type": "code",
   "execution_count": 6,
   "metadata": {},
   "outputs": [],
   "source": [
    "name = \"Elias\""
   ]
  },
  {
   "cell_type": "code",
   "execution_count": 7,
   "metadata": {},
   "outputs": [],
   "source": [
    "make_qr_quote(name)"
   ]
  },
  {
   "cell_type": "markdown",
   "metadata": {},
   "source": []
  },
  {
   "cell_type": "code",
   "execution_count": 16,
   "metadata": {},
   "outputs": [],
   "source": [
    "from IPython.display import Image\n"
   ]
  },
  {
   "cell_type": "code",
   "execution_count": 44,
   "metadata": {},
   "outputs": [],
   "source": [
    "def get_image_from_database(name):\n",
    "        with open(f\"../Eli/temp/{name}.jpg\", \"rb\") as image:\n",
    "                f = image.read()\n",
    "                b = bytearray(f)\n",
    "                return b"
   ]
  },
  {
   "cell_type": "code",
   "execution_count": 47,
   "metadata": {},
   "outputs": [
    {
     "data": {
      "text/plain": [
       "bytearray"
      ]
     },
     "execution_count": 47,
     "metadata": {},
     "output_type": "execute_result"
    }
   ],
   "source": [
    "type(get_image_from_database(name))"
   ]
  },
  {
   "cell_type": "code",
   "execution_count": null,
   "metadata": {},
   "outputs": [],
   "source": []
  }
 ],
 "metadata": {
  "interpreter": {
   "hash": "7daa0d4bf7d9832ecbed35672e4713eb7ac02d47de1d2bb67748262634aa87d4"
  },
  "kernelspec": {
   "display_name": "Python 3.9.7 ('dev')",
   "language": "python",
   "name": "python3"
  },
  "language_info": {
   "codemirror_mode": {
    "name": "ipython",
    "version": 3
   },
   "file_extension": ".py",
   "mimetype": "text/x-python",
   "name": "python",
   "nbconvert_exporter": "python",
   "pygments_lexer": "ipython3",
   "version": "3.9.7"
  },
  "orig_nbformat": 4
 },
 "nbformat": 4,
 "nbformat_minor": 2
}
