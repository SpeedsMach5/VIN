{
 "cells": [
  {
   "cell_type": "code",
   "execution_count": 1,
   "metadata": {},
   "outputs": [],
   "source": [
    "from web3 import Web3\n",
    "import pandas as pd\n",
    "import os\n",
    "import json\n",
    "from dotenv import load_dotenv\n",
    "import sqlalchemy as sql\n",
    "from pathlib import Path\n",
    "\n",
    "\n",
    "from mnemonic import Mnemonic\n",
    "from bip44 import Wallet\n",
    "from web3 import Account\n",
    "load_dotenv()\n",
    "w3 = Web3(Web3.HTTPProvider(os.getenv(\"WEB3_PROVIDER_URI\")))\n"
   ]
  },
  {
   "cell_type": "code",
   "execution_count": 2,
   "metadata": {},
   "outputs": [],
   "source": [
    "def load_contract():\n",
    "\n",
    "    # Load the contract ABI\n",
    "    with open(Path('abi.json')) as f:\n",
    "        artwork_abi = json.load(f)\n",
    "\n",
    "    contract_address = os.getenv(\"SMART_CONTRACT_ADDRESS\")\n",
    "\n",
    "    # Load the contract\n",
    "    contract = w3.eth.contract(\n",
    "        address=contract_address,\n",
    "        abi=artwork_abi\n",
    "    )\n",
    "\n",
    "    return contract"
   ]
  },
  {
   "cell_type": "code",
   "execution_count": 3,
   "metadata": {},
   "outputs": [],
   "source": [
    "contract = load_contract()"
   ]
  },
  {
   "cell_type": "code",
   "execution_count": 28,
   "metadata": {},
   "outputs": [],
   "source": [
    "# address = \"0xd848F0e8D832cfb0969a1982fd647f60a0b3d944\"\n",
    "address = \"0xe4579DE6777841d4a16C86dB45F258616Ff93c88\"\n",
    "owner = \"0xe4579DE6777841d4a16C86dB45F258616Ff93c88\"\n",
    "# owner = \"0x2856b2fFFa0D703a2946C61d05989ca17147c20C\""
   ]
  },
  {
   "cell_type": "code",
   "execution_count": 29,
   "metadata": {},
   "outputs": [
    {
     "data": {
      "text/plain": [
       "[<Function approve(address,uint256)>,\n",
       " <Function balanceOf(address)>,\n",
       " <Function baseURI()>,\n",
       " <Function getApproved(uint256)>,\n",
       " <Function isApprovedForAll(address,address)>,\n",
       " <Function name()>,\n",
       " <Function ownerOf(uint256)>,\n",
       " <Function registerCar(address,string,string,string,string)>,\n",
       " <Function safeTransferFrom(address,address,uint256)>,\n",
       " <Function safeTransferFrom(address,address,uint256,bytes)>,\n",
       " <Function setApprovalForAll(address,bool)>,\n",
       " <Function supportsInterface(bytes4)>,\n",
       " <Function symbol()>,\n",
       " <Function tokenByIndex(uint256)>,\n",
       " <Function tokenOfOwnerByIndex(address,uint256)>,\n",
       " <Function tokenURI(uint256)>,\n",
       " <Function totalSupply()>,\n",
       " <Function transferFrom(address,address,uint256)>,\n",
       " <Function vehicleCollection(uint256)>]"
      ]
     },
     "execution_count": 29,
     "metadata": {},
     "output_type": "execute_result"
    }
   ],
   "source": [
    "contract.all_functions()"
   ]
  },
  {
   "cell_type": "code",
   "execution_count": 30,
   "metadata": {},
   "outputs": [
    {
     "data": {
      "text/plain": [
       "HexBytes('0xd96e40b746614078bd702541ecbfe0a702cb78088528b38c1ac461519abab283')"
      ]
     },
     "execution_count": 30,
     "metadata": {},
     "output_type": "execute_result"
    }
   ],
   "source": [
    "contract.functions.registerCar(\n",
    "    address,\n",
    "    \"bob\",\n",
    "    \"w356453\",\n",
    "    \"Pending\",\n",
    "    \"www.facebook.com\"\n",
    ").transact(\n",
    "    {\"from\":owner, \n",
    "    'gas': 1000000})\n"
   ]
  },
  {
   "cell_type": "code",
   "execution_count": 41,
   "metadata": {},
   "outputs": [
    {
     "data": {
      "text/plain": [
       "HexBytes('0xfa95fc7ba1d093b5420264a4d26b9bc9f8b4fae6ae6c108d5eef780913af1e9e')"
      ]
     },
     "execution_count": 41,
     "metadata": {},
     "output_type": "execute_result"
    }
   ],
   "source": [
    "contract.functions.registerCar(\n",
    "    address,\n",
    "    \"quentin\",\n",
    "    \"tuy678567\",\n",
    "    \"Active\",\n",
    "    \"www.myspace.com\"\n",
    ").transact(\n",
    "    {\"from\":owner, \n",
    "    'gas': 1000000})"
   ]
  },
  {
   "cell_type": "code",
   "execution_count": 42,
   "metadata": {},
   "outputs": [
    {
     "data": {
      "text/plain": [
       "HexBytes('0xd31f966a0eef975e52d21aba74e828352374d0c9c817d92b70312580ed7959fb')"
      ]
     },
     "execution_count": 42,
     "metadata": {},
     "output_type": "execute_result"
    }
   ],
   "source": [
    "contract.functions.registerCar(\n",
    "    address,\n",
    "    \"john\",\n",
    "    \"098723\",\n",
    "    \"Not in Database\",\n",
    "    \"www.yahoo.com\"\n",
    ").transact(\n",
    "    {\"from\":owner, \n",
    "    'gas': 1000000})"
   ]
  },
  {
   "cell_type": "code",
   "execution_count": null,
   "metadata": {},
   "outputs": [],
   "source": [
    "vin_to_verify = \"tuy678567\""
   ]
  },
  {
   "cell_type": "code",
   "execution_count": 62,
   "metadata": {},
   "outputs": [],
   "source": [
    "def total_token_supply():\n",
    "    return contract.functions.totalSupply().call()"
   ]
  },
  {
   "cell_type": "code",
   "execution_count": 64,
   "metadata": {},
   "outputs": [
    {
     "name": "stdout",
     "output_type": "stream",
     "text": [
      "0\n",
      "not in system\n",
      "1\n",
      "not in system\n",
      "2\n",
      "IN SYSTEM\n",
      "3\n",
      "not in system\n"
     ]
    }
   ],
   "source": [
    "def total_token_supply():\n",
    "    return contract.functions.totalSupply().call()\n",
    "\n",
    "\n",
    "def vin_verification(number_of_tokens, vin_to_verify):\n",
    "    for number in range(0,number_of_tokens):\n",
    "        print(number)\n",
    "        if contract.functions.vehicleCollection(number).call()[1] == vin_to_verify:\n",
    "            print(\"IN SYSTEM\")\n",
    "        else:\n",
    "            print(\"not in system\")\n"
   ]
  },
  {
   "cell_type": "code",
   "execution_count": 139,
   "metadata": {},
   "outputs": [],
   "source": [
    "import cv2\n",
    "\n",
    "def qr_decoder(file):    \n",
    "    # read the QRCODE image\n",
    "    image = cv2.imread(file)\n",
    "    # initialize the cv2 QRCode detector\n",
    "    detector = cv2.QRCodeDetector()\n",
    "    # detect and decode\n",
    "    data, vertices_array, binary_qrcode = detector.detectAndDecode(image)\n",
    "    # if there is a QR code\n",
    "    # print the data\n",
    "    if vertices_array is not None:\n",
    "        return data\n",
    "    else:\n",
    "        return print(\"There was some error\")"
   ]
  },
  {
   "cell_type": "code",
   "execution_count": 4,
   "metadata": {},
   "outputs": [
    {
     "name": "stdout",
     "output_type": "stream",
     "text": [
      "QRCode data:\n",
      "{'name': 'apple', 'vin': '@3423,', 'status': 'pending', 'make': 'asfdadf', 'model': 'adf', 'year': 'adf'}\n"
     ]
    }
   ],
   "source": [
    "# Import Library\n",
    "import cv2\n",
    "# Name of the QR Code Image file\n",
    "filename = \"./temp/apple.jpg\"\n",
    "# read the QRCODE image\n",
    "image = cv2.imread(filename)\n",
    "# initialize the cv2 QRCode detector\n",
    "detector = cv2.QRCodeDetector()\n",
    "# detect and decode\n",
    "data, vertices_array, binary_qrcode = detector.detectAndDecode(image)\n",
    "# if there is a QR code\n",
    "# print the data\n",
    "if vertices_array is not None:\n",
    " print(\"QRCode data:\")\n",
    " print(data)\n",
    "else:\n",
    " print(\"There was some error\")"
   ]
  },
  {
   "cell_type": "code",
   "execution_count": 5,
   "metadata": {},
   "outputs": [],
   "source": [
    "def qr_decoder(file):    \n",
    "    # read the QRCODE image\n",
    "    print(\"This is the type: \")\n",
    "    print(type(file))\n",
    "    image = cv2.imread(file)\n",
    "    print(type(image))\n",
    "    # initialize the cv2 QRCode detector\n",
    "    detector = cv2.QRCodeDetector()\n",
    "    # detect and decode\n",
    "    data, vertices_array, binary_qrcode = detector.detectAndDecode(image)\n",
    "    # if there is a QR code\n",
    "    # print the data\n",
    "    return data"
   ]
  },
  {
   "cell_type": "code",
   "execution_count": 7,
   "metadata": {},
   "outputs": [
    {
     "name": "stdout",
     "output_type": "stream",
     "text": [
      "This is the type: \n",
      "<class 'str'>\n",
      "<class 'numpy.ndarray'>\n"
     ]
    },
    {
     "data": {
      "text/plain": [
       "\"{'name': 'apple', 'vin': '@3423,', 'status': 'pending', 'make': 'asfdadf', 'model': 'adf', 'year': 'adf'}\""
      ]
     },
     "execution_count": 7,
     "metadata": {},
     "output_type": "execute_result"
    }
   ],
   "source": [
    "qr_decoder(file)\n",
    "\n"
   ]
  },
  {
   "cell_type": "code",
   "execution_count": 157,
   "metadata": {},
   "outputs": [],
   "source": [
    "def make_qr_quote(name, vin, status, make, model, year):\n",
    "    qr = qrcode.QRCode(\n",
    "    version=1,\n",
    "    error_correction=qrcode.constants.ERROR_CORRECT_L,\n",
    "    box_size=10,\n",
    "    border=4)\n",
    "    qr.add_data(\n",
    "        {\"name\":f\"{name}\", \n",
    "        \"vin\":f\"{vin}\",\n",
    "        \"status\":f\"{status}\",\n",
    "        \"make\":f\"{make}\",\n",
    "        \"model\":f\"{model}\",\n",
    "        \"year\":f\"{year}\"})\n",
    "    qr.make(fit=True)\n",
    "    img = qr.make_image(fill_color=\"black\", back_color=\"white\")\n",
    "    img.save(f\"temp/{name}.jpg\")"
   ]
  },
  {
   "cell_type": "code",
   "execution_count": 24,
   "metadata": {},
   "outputs": [],
   "source": [
    "import qrcode\n",
    "def make_qr_quote(name, vin, status, make, model, year):\n",
    "    qr = qrcode.QRCode(\n",
    "    version=1,\n",
    "    error_correction=qrcode.constants.ERROR_CORRECT_L,\n",
    "    box_size=10,\n",
    "    border=4)\n",
    "    qr.add_data(\n",
    "        {\"name\":f\"{name}\", \n",
    "        \"vin\":f\"{vin}\",\n",
    "        \"status\":f\"{status}\",\n",
    "        \"make\":f\"{make}\",\n",
    "        \"model\":f\"{model}\",\n",
    "        \"year\":f\"{year}\"})\n",
    "    qr.make(fit=True)\n",
    "    img = qr.make_image(fill_color=\"black\", back_color=\"white\")\n",
    "    img.save(f\"temp/{name}.jpg\")\n",
    "    # return img.get_image()\n",
    "\n",
    "def qr_decoder(file):    \n",
    "    # read the QRCODE image\n",
    "    # st.write(file)\n",
    "    import numpy as np\n",
    "\n",
    "    # file_bytes = file.getvalue()\n",
    "\n",
    "    img_arr = np.frombuffer(file,np.uint8)\n",
    "    img = cv2.imdecode(img_arr, cv2.IMREAD_COLOR)\n",
    "\n",
    "    # img = cv2.imread(file)\n",
    "    # initialize the cv2 QRCode detector\n",
    "    detector = cv2.QRCodeDetector()\n",
    "    # detect and decode\n",
    "    data, vertices_array, binary_qrcode = detector.detectAndDecode(img)\n",
    "    # if there is a QR code\n",
    "    # print the data\n",
    "    if vertices_array is not None:\n",
    "        return data\n",
    "    else:\n",
    "        return st.write(\"There was some error\")  "
   ]
  },
  {
   "cell_type": "code",
   "execution_count": 13,
   "metadata": {},
   "outputs": [],
   "source": [
    "make_qr_quote(\"Caleb\", \"253675643\", \"Active\", \"VW\", \"Golf\", \"2030\")"
   ]
  },
  {
   "cell_type": "code",
   "execution_count": 50,
   "metadata": {},
   "outputs": [
    {
     "name": "stdout",
     "output_type": "stream",
     "text": [
      "None\n"
     ]
    }
   ],
   "source": [
    "with open(\"./temp/Jonathan .jpg\",\"rb\") as file:\n",
    "    import numpy as np\n",
    "    im_bytes = file.read()\n",
    "    # print(im_bytes)\n",
    "    img_arr = np.frombuffer(im_bytes,np.uint8)\n",
    "    # print(img_arr)\n",
    "    img = cv2.imdecode(img_arr, cv2.IMREAD_COLOR)\n",
    "    detector = cv2.QRCodeDetector()\n",
    "\n",
    "    data, vertices_array, binary_qrcode = detector.detectAndDecode(img)\n",
    "    print(binary_qrcode)\n",
    "\n"
   ]
  },
  {
   "cell_type": "code",
   "execution_count": 56,
   "metadata": {},
   "outputs": [],
   "source": [
    "retval, data = detector.detect(img)"
   ]
  },
  {
   "cell_type": "code",
   "execution_count": 61,
   "metadata": {},
   "outputs": [
    {
     "data": {
      "text/plain": [
       "('', None)"
      ]
     },
     "execution_count": 61,
     "metadata": {},
     "output_type": "execute_result"
    }
   ],
   "source": [
    "detector.decode(img,data)"
   ]
  },
  {
   "cell_type": "code",
   "execution_count": 63,
   "metadata": {},
   "outputs": [],
   "source": [
    "from pyzbar.pyzbar import decode"
   ]
  },
  {
   "cell_type": "code",
   "execution_count": 65,
   "metadata": {},
   "outputs": [
    {
     "data": {
      "text/plain": [
       "list"
      ]
     },
     "execution_count": 65,
     "metadata": {},
     "output_type": "execute_result"
    }
   ],
   "source": [
    "type(decode(cv2.imread('./temp/Jonathan .jpg'))\n",
    ")"
   ]
  },
  {
   "cell_type": "code",
   "execution_count": 67,
   "metadata": {},
   "outputs": [],
   "source": [
    "\n",
    "def qr_decoder(file):    \n",
    "\n",
    "    file_bytes = file.getvalue()\n",
    "\n",
    "    img_arr = np.frombuffer(file_bytes,np.uint8)\n",
    "   \n",
    "    img = cv2.imdecode(img_arr, cv2.IMREAD_COLOR)\n",
    "   \n",
    "    data = decode(img)\n",
    "\n",
    "\n",
    "    return data"
   ]
  },
  {
   "cell_type": "code",
   "execution_count": 71,
   "metadata": {},
   "outputs": [
    {
     "data": {
      "text/plain": [
       "b\"{'name': 'Jonathan ', 'vin': '34753945', 'status': 'Temporary', 'make': 'Bentley', 'model': '1 Series', 'year': '2017'}\""
      ]
     },
     "execution_count": 71,
     "metadata": {},
     "output_type": "execute_result"
    }
   ],
   "source": [
    "decode(img)[0].data"
   ]
  },
  {
   "cell_type": "code",
   "execution_count": 72,
   "metadata": {},
   "outputs": [],
   "source": [
    "make_qr_quote(\"Bootcamp\",\"2345\",\"Active\",\"Lambo\",\"Murcielago\",\"2030\")"
   ]
  },
  {
   "cell_type": "code",
   "execution_count": null,
   "metadata": {},
   "outputs": [],
   "source": []
  }
 ],
 "metadata": {
  "interpreter": {
   "hash": "7daa0d4bf7d9832ecbed35672e4713eb7ac02d47de1d2bb67748262634aa87d4"
  },
  "kernelspec": {
   "display_name": "Python 3.9.7 ('dev')",
   "language": "python",
   "name": "python3"
  },
  "language_info": {
   "codemirror_mode": {
    "name": "ipython",
    "version": 3
   },
   "file_extension": ".py",
   "mimetype": "text/x-python",
   "name": "python",
   "nbconvert_exporter": "python",
   "pygments_lexer": "ipython3",
   "version": "3.9.7"
  },
  "orig_nbformat": 4
 },
 "nbformat": 4,
 "nbformat_minor": 2
}
